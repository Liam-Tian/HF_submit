{
 "cells": [
  {
   "cell_type": "code",
   "execution_count": null,
   "id": "9fbc50bf-d99e-4c48-baeb-d7d859cd9577",
   "metadata": {},
   "outputs": [],
   "source": [
    "from datasets import Dataset, Features, Value\n",
    "import datasets\n",
    "import requests\n",
    "from PIL import Image\n",
    "from tqdm import tqdm\n",
    "import os"
   ]
  },
  {
   "cell_type": "code",
   "execution_count": null,
   "id": "83906652-bab7-4955-900e-77736fe5d157",
   "metadata": {},
   "outputs": [],
   "source": [
    "features = Features({\n",
    "    'texts': Value(dtype = 'string'),\n",
    "    'images': datasets.Image(decode = True),\n",
    "})\n",
    "\n",
    "des = [] # description\n",
    "imgs = [] # images"
   ]
  },
  {
   "cell_type": "code",
   "execution_count": null,
   "id": "d2aad152-3c10-4bf2-b378-4b553b3c3009",
   "metadata": {},
   "outputs": [],
   "source": [
    "root = 'images/'\n",
    "for name in tqdm(os.listdir(root)):\n",
    "    path = os.path.join(root, name)\n",
    "    img = Image.open(path)\n",
    "    des.append(name)\n",
    "    imgs.append(img)"
   ]
  },
  {
   "cell_type": "code",
   "execution_count": null,
   "id": "274423d0-1f9a-40ef-9ede-3de0aeac0030",
   "metadata": {},
   "outputs": [],
   "source": [
    "data = {\"texts\": des, \n",
    "      \"images\": imgs}\n",
    "dataset = Dataset.from_dict(data, features=features)"
   ]
  },
  {
   "cell_type": "code",
   "execution_count": null,
   "id": "c07fd433-4885-4868-a4bc-1d6f9b113529",
   "metadata": {},
   "outputs": [],
   "source": [
    "dataset.push_to_hub('user/repo_name')"
   ]
  },
  {
   "cell_type": "code",
   "execution_count": null,
   "id": "9cfbd6b2-ed61-4ad0-8ff7-cc284c4d4548",
   "metadata": {},
   "outputs": [],
   "source": []
  }
 ],
 "metadata": {
  "kernelspec": {
   "display_name": "hf_submit",
   "language": "python",
   "name": "hf_submit"
  },
  "language_info": {
   "codemirror_mode": {
    "name": "ipython",
    "version": 3
   },
   "file_extension": ".py",
   "mimetype": "text/x-python",
   "name": "python",
   "nbconvert_exporter": "python",
   "pygments_lexer": "ipython3",
   "version": "3.9.16"
  }
 },
 "nbformat": 4,
 "nbformat_minor": 5
}
